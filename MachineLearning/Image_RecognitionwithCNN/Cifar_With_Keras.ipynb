{
 "cells": [
  {
   "cell_type": "code",
   "execution_count": 1,
   "metadata": {
    "colab": {
     "autoexec": {
      "startup": false,
      "wait_interval": 0
     },
     "base_uri": "https://localhost:8080/",
     "height": 34
    },
    "colab_type": "code",
    "executionInfo": {
     "elapsed": 8989,
     "status": "ok",
     "timestamp": 1532510652421,
     "user": {
      "displayName": "Aditya Sharma",
      "photoUrl": "//lh6.googleusercontent.com/-hMtcLomr5eg/AAAAAAAAAAI/AAAAAAAAGCU/uLYXkdB1EYY/s50-c-k-no/photo.jpg",
      "userId": "106189743491491623444"
     },
     "user_tz": -330
    },
    "id": "UAC9qeeBs1W4",
    "outputId": "8bc3b604-379a-490a-8103-706c66bab904"
   },
   "outputs": [
    {
     "name": "stderr",
     "output_type": "stream",
     "text": [
      "/usr/local/lib/python2.7/dist-packages/h5py/__init__.py:36: FutureWarning: Conversion of the second argument of issubdtype from `float` to `np.floating` is deprecated. In future, it will be treated as `np.float64 == np.dtype(float).type`.\n",
      "  from ._conv import register_converters as _register_converters\n",
      "Using TensorFlow backend.\n"
     ]
    }
   ],
   "source": [
    "import tensorflow as tf\n",
    "from keras.models import Sequential"
   ]
  },
  {
   "cell_type": "code",
   "execution_count": 2,
   "metadata": {
    "colab": {
     "autoexec": {
      "startup": false,
      "wait_interval": 0
     }
    },
    "colab_type": "code",
    "collapsed": true,
    "id": "5Dz92SSnKJ55"
   },
   "outputs": [],
   "source": [
    "from tflearn.datasets import cifar10"
   ]
  },
  {
   "cell_type": "code",
   "execution_count": 3,
   "metadata": {
    "colab": {
     "autoexec": {
      "startup": false,
      "wait_interval": 0
     },
     "base_uri": "https://localhost:8080/",
     "height": 67
    },
    "colab_type": "code",
    "executionInfo": {
     "elapsed": 9790,
     "status": "ok",
     "timestamp": 1532510666324,
     "user": {
      "displayName": "Aditya Sharma",
      "photoUrl": "//lh6.googleusercontent.com/-hMtcLomr5eg/AAAAAAAAAAI/AAAAAAAAGCU/uLYXkdB1EYY/s50-c-k-no/photo.jpg",
      "userId": "106189743491491623444"
     },
     "user_tz": -330
    },
    "id": "A1H19fuNKWO2",
    "outputId": "2d171458-1af9-4099-c050-b64815beeb75"
   },
   "outputs": [
    {
     "name": "stdout",
     "output_type": "stream",
     "text": [
      "Downloading CIFAR 10, Please wait...\n"
     ]
    },
    {
     "name": "stderr",
     "output_type": "stream",
     "text": [
      "100.0% 170500096 / 170498071\n"
     ]
    },
    {
     "name": "stdout",
     "output_type": "stream",
     "text": [
      "('Succesfully downloaded', 'cifar-10-python.tar.gz', 170498071, 'bytes.')\n",
      "File Extracted in Current Directory\n"
     ]
    }
   ],
   "source": [
    "(X_train, y_train),(X_test, y_test) = cifar10.load_data()"
   ]
  },
  {
   "cell_type": "code",
   "execution_count": 4,
   "metadata": {
    "colab": {
     "autoexec": {
      "startup": false,
      "wait_interval": 0
     }
    },
    "colab_type": "code",
    "collapsed": true,
    "id": "rHp1aVcbM1Wr"
   },
   "outputs": [],
   "source": [
    "from keras.utils import to_categorical"
   ]
  },
  {
   "cell_type": "code",
   "execution_count": 5,
   "metadata": {
    "colab": {
     "autoexec": {
      "startup": false,
      "wait_interval": 0
     }
    },
    "colab_type": "code",
    "id": "lM1MtiUNeVQ_"
   },
   "outputs": [],
   "source": [
    "Y_train = to_categorical(y_train)\n",
    "Y_test = to_categorical(y_test)"
   ]
  },
  {
   "cell_type": "code",
   "execution_count": 6,
   "metadata": {
    "colab": {
     "autoexec": {
      "startup": false,
      "wait_interval": 0
     }
    },
    "colab_type": "code",
    "collapsed": true,
    "id": "z85MgkR2f7Ic"
   },
   "outputs": [],
   "source": [
    "from keras.layers import Dense, Flatten, Dropout, Conv2D, MaxPooling2D \n",
    "from keras.optimizers import Adam\n",
    "from keras.optimizers import SGD"
   ]
  },
  {
   "cell_type": "code",
   "execution_count": 7,
   "metadata": {
    "colab": {
     "autoexec": {
      "startup": false,
      "wait_interval": 0
     }
    },
    "colab_type": "code",
    "collapsed": true,
    "id": "S9sQHuM9nDJ5"
   },
   "outputs": [],
   "source": [
    "def cnn_model():\n",
    "  Model = Sequential()\n",
    "  \n",
    "  Model.add(Conv2D(32, (3, 3), strides = (1, 1), padding = 'same', activation='relu', input_shape = (32, 32, 3)))\n",
    "  Model.add(MaxPooling2D(pool_size = (2, 2), padding = 'same'))\n",
    "  Model.add(Dropout(0.25))\n",
    "  \n",
    "  Model.add(Conv2D(64, (3, 3), strides = (1, 1), padding = 'same', activation='relu'))\n",
    "  Model.add(MaxPooling2D(pool_size = (2, 2), padding = 'same'))\n",
    "  Model.add(Dropout(0.25))\n",
    "  \n",
    "  Model.add(Flatten())\n",
    "  \n",
    "  Model.add(Dense(1024, activation = 'relu'))\n",
    "  \n",
    "  Model.add(Dense(10, activation = 'softmax'))\n",
    "  Model.summary()\n",
    "  return Model"
   ]
  },
  {
   "cell_type": "code",
   "execution_count": 8,
   "metadata": {
    "colab": {
     "autoexec": {
      "startup": false,
      "wait_interval": 0
     },
     "base_uri": "https://localhost:8080/",
     "height": 437
    },
    "colab_type": "code",
    "executionInfo": {
     "elapsed": 1186,
     "status": "ok",
     "timestamp": 1532510674744,
     "user": {
      "displayName": "Aditya Sharma",
      "photoUrl": "//lh6.googleusercontent.com/-hMtcLomr5eg/AAAAAAAAAAI/AAAAAAAAGCU/uLYXkdB1EYY/s50-c-k-no/photo.jpg",
      "userId": "106189743491491623444"
     },
     "user_tz": -330
    },
    "id": "MxeyuvRayFOe",
    "outputId": "0e86a1d2-56d1-43e5-ca1b-0c17826bd856"
   },
   "outputs": [
    {
     "name": "stdout",
     "output_type": "stream",
     "text": [
      "_________________________________________________________________\n",
      "Layer (type)                 Output Shape              Param #   \n",
      "=================================================================\n",
      "conv2d_1 (Conv2D)            (None, 32, 32, 32)        896       \n",
      "_________________________________________________________________\n",
      "max_pooling2d_1 (MaxPooling2 (None, 16, 16, 32)        0         \n",
      "_________________________________________________________________\n",
      "dropout_1 (Dropout)          (None, 16, 16, 32)        0         \n",
      "_________________________________________________________________\n",
      "conv2d_2 (Conv2D)            (None, 16, 16, 64)        18496     \n",
      "_________________________________________________________________\n",
      "max_pooling2d_2 (MaxPooling2 (None, 8, 8, 64)          0         \n",
      "_________________________________________________________________\n",
      "dropout_2 (Dropout)          (None, 8, 8, 64)          0         \n",
      "_________________________________________________________________\n",
      "flatten_1 (Flatten)          (None, 4096)              0         \n",
      "_________________________________________________________________\n",
      "dense_1 (Dense)              (None, 1024)              4195328   \n",
      "_________________________________________________________________\n",
      "dense_2 (Dense)              (None, 10)                10250     \n",
      "=================================================================\n",
      "Total params: 4,224,970\n",
      "Trainable params: 4,224,970\n",
      "Non-trainable params: 0\n",
      "_________________________________________________________________\n"
     ]
    }
   ],
   "source": [
    "cnn = cnn_model()"
   ]
  },
  {
   "cell_type": "code",
   "execution_count": 9,
   "metadata": {
    "colab": {
     "autoexec": {
      "startup": false,
      "wait_interval": 0
     }
    },
    "colab_type": "code",
    "collapsed": true,
    "id": "a6DTxb6dhvXM"
   },
   "outputs": [],
   "source": [
    "cnn.compile(loss='categorical_crossentropy', optimizer=SGD(lr = 0.001), metrics=['accuracy'])"
   ]
  },
  {
   "cell_type": "code",
   "execution_count": 10,
   "metadata": {
    "colab": {
     "autoexec": {
      "startup": false,
      "wait_interval": 0
     },
     "base_uri": "https://localhost:8080/",
     "height": 1442
    },
    "colab_type": "code",
    "executionInfo": {
     "elapsed": 29846,
     "status": "error",
     "timestamp": 1532510706519,
     "user": {
      "displayName": "Aditya Sharma",
      "photoUrl": "//lh6.googleusercontent.com/-hMtcLomr5eg/AAAAAAAAAAI/AAAAAAAAGCU/uLYXkdB1EYY/s50-c-k-no/photo.jpg",
      "userId": "106189743491491623444"
     },
     "user_tz": -330
    },
    "id": "JhYnbiNqk0Ha",
    "outputId": "0b36b741-f1a3-4e20-b0df-e5780e2d9bae"
   },
   "outputs": [
    {
     "name": "stdout",
     "output_type": "stream",
     "text": [
      "Train on 50000 samples, validate on 10000 samples\n",
      "Epoch 1/10\n",
      "50000/50000 [==============================] - 147s 3ms/step - loss: 2.2479 - acc: 0.1639 - val_loss: 2.1696 - val_acc: 0.2401\n",
      "Epoch 2/10\n",
      "50000/50000 [==============================] - 152s 3ms/step - loss: 2.0924 - acc: 0.2450 - val_loss: 2.0044 - val_acc: 0.2804\n",
      "Epoch 3/10\n",
      "50000/50000 [==============================] - 152s 3ms/step - loss: 1.9883 - acc: 0.2883 - val_loss: 1.9404 - val_acc: 0.3221\n",
      "Epoch 4/10\n",
      "50000/50000 [==============================] - 153s 3ms/step - loss: 1.9382 - acc: 0.3128 - val_loss: 1.8987 - val_acc: 0.3419\n",
      "Epoch 5/10\n",
      "50000/50000 [==============================] - 166s 3ms/step - loss: 1.8957 - acc: 0.3309 - val_loss: 1.8540 - val_acc: 0.3576\n",
      "Epoch 6/10\n",
      "50000/50000 [==============================] - 169s 3ms/step - loss: 1.8506 - acc: 0.3521 - val_loss: 1.8047 - val_acc: 0.3739\n",
      "Epoch 7/10\n",
      "50000/50000 [==============================] - 168s 3ms/step - loss: 1.8090 - acc: 0.3653 - val_loss: 1.7657 - val_acc: 0.3915\n",
      "Epoch 8/10\n",
      "50000/50000 [==============================] - 168s 3ms/step - loss: 1.7701 - acc: 0.3796 - val_loss: 1.7166 - val_acc: 0.4025\n",
      "Epoch 9/10\n",
      "50000/50000 [==============================] - 172s 3ms/step - loss: 1.7330 - acc: 0.3914 - val_loss: 1.6906 - val_acc: 0.4130\n",
      "Epoch 10/10\n",
      "50000/50000 [==============================] - 170s 3ms/step - loss: 1.6960 - acc: 0.4024 - val_loss: 1.6454 - val_acc: 0.4292\n"
     ]
    }
   ],
   "source": [
    "model_details = cnn.fit(X_train, Y_train, batch_size = 32, epochs = 10, validation_data= (X_test, Y_test))"
   ]
  },
  {
   "cell_type": "code",
   "execution_count": null,
   "metadata": {
    "colab": {
     "autoexec": {
      "startup": false,
      "wait_interval": 0
     }
    },
    "colab_type": "code",
    "collapsed": true,
    "id": "MsB03EvDnww3"
   },
   "outputs": [],
   "source": []
  }
 ],
 "metadata": {
  "accelerator": "GPU",
  "colab": {
   "collapsed_sections": [],
   "default_view": {},
   "name": "Cifar_With_Keras.ipynb",
   "provenance": [],
   "version": "0.3.2",
   "views": {}
  },
  "kernelspec": {
   "display_name": "Python 3",
   "language": "python",
   "name": "python3"
  },
  "language_info": {
   "codemirror_mode": {
    "name": "ipython",
    "version": 3
   },
   "file_extension": ".py",
   "mimetype": "text/x-python",
   "name": "python",
   "nbconvert_exporter": "python",
   "pygments_lexer": "ipython3",
   "version": "3.6.4"
  }
 },
 "nbformat": 4,
 "nbformat_minor": 1
}
