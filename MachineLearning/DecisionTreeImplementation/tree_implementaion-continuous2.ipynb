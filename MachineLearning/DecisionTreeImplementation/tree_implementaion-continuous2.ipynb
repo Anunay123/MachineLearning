{
 "cells": [
  {
   "cell_type": "code",
   "execution_count": 24,
   "metadata": {},
   "outputs": [],
   "source": [
    "#if you do not understand at any point whatsapp 9877092646 MOHIT SINGLA\n",
    "#using iris as dataset"
   ]
  },
  {
   "cell_type": "code",
   "execution_count": 51,
   "metadata": {},
   "outputs": [],
   "source": [
    "from sklearn import datasets\n",
    "import pandas as pd\n",
    "from sklearn.model_selection import train_test_split\n",
    "iris = datasets.load_iris()\n",
    "x_train,x_test,y_train,y_test=train_test_split(iris.data,iris.target)"
   ]
  },
  {
   "cell_type": "code",
   "execution_count": 52,
   "metadata": {},
   "outputs": [],
   "source": [
    "df=pd.DataFrame(x_train)\n",
    "\n",
    "#renaming the column names of df dataframe\n",
    "y=iris.target\n",
    "#y is numpy array of output"
   ]
  },
  {
   "cell_type": "code",
   "execution_count": 53,
   "metadata": {},
   "outputs": [],
   "source": [
    "import numpy as np\n",
    "import math"
   ]
  },
  {
   "cell_type": "code",
   "execution_count": 54,
   "metadata": {},
   "outputs": [],
   "source": [
    "class Tree:\n",
    "    def __init__(self):\n",
    "        self.feature=None #to store the name of feature to split about\n",
    "        self.fea_value=None # to store the vale of that particular feature \n",
    "        self.left=None # pointer to left tree\n",
    "        self.right=None # pointer to right tree\n",
    "        self.data=None # stored the label i.e. class if its a leaf node\n",
    "        "
   ]
  },
  {
   "cell_type": "code",
   "execution_count": null,
   "metadata": {},
   "outputs": [],
   "source": []
  },
  {
   "cell_type": "code",
   "execution_count": 55,
   "metadata": {},
   "outputs": [],
   "source": [
    "#implementation for continuous data\n",
    "# here u is level number\n",
    "def build_tree(df,y,u,head):\n",
    "    # as data in continuous pure leaf is only base case\n",
    "    # base case when node become pure i.e. it has only one type of data\n",
    "    \n",
    "    num_y=len(set(y))\n",
    "    total_y=len(y)\n",
    "    # num_y is number of types of classes present\n",
    "    if num_y==1:\n",
    "        head.data=y[0]\n",
    "        print(\"Level : \",u,\"\\ncurrent entropy is = 0.0\\nReached leaf node\\n\")\n",
    "        return\n",
    "    \n",
    "    # data is class label of node, if its not a leaf node, initialising it to -1\n",
    "    head.data=-1\n",
    "    best_feature=\"\"\n",
    "    # taking a very large value as initial in least_entropy\n",
    "    max_gain_ratio=0\n",
    "    best_value=0\n",
    "    \n",
    "    # finding best feature to split on\n",
    "    for pos_fea in df.columns:\n",
    "      \n",
    "       \n",
    "        # finding best value in that feature to split on\n",
    "        for j in set(df[pos_fea]):\n",
    "            # creating a temporary array to store types of y in each split\n",
    "            # size is hardcoded as in iris only 3 types of classes are there\n",
    "            # entropy 1 for left part of split and entropy 2 for right part\n",
    "            \n",
    "            y_temp1=np.zeros(3)\n",
    "            y_temp2=np.zeros(3)\n",
    "            entropy1=0\n",
    "            entropy2=0\n",
    "            total_entropy=0\n",
    "           \n",
    "            # splitting dataframe into 2 parts one with \n",
    "            \n",
    "            for k in y[df[pos_fea]<j]:\n",
    "                y_temp1[k]+=1\n",
    "            len_y1=len(y[df[pos_fea]<j])\n",
    "            \n",
    "            #it will skip the very first case\n",
    "            if(len_y1==0):\n",
    "                continue\n",
    "            # calculating entropy\n",
    "            for i in set(y):\n",
    "                if(y_temp1[i]!=0):\n",
    "                    entropy1-=math.log2(y_temp1[i]/len_y1)\n",
    "                    \n",
    "                    \n",
    "            for k in y[df[pos_fea]>=j]:\n",
    "                y_temp2[k]+=1\n",
    "            len_y2=len(y[df[pos_fea]>=j])\n",
    "            for i in set(y):\n",
    "                if(y_temp2[i]!=0):\n",
    "                    entropy2-=math.log2(y_temp2[i]/len_y2)\n",
    "                    \n",
    "            initial_entropy=0\n",
    "            for i in set(y):\n",
    "                if((y_temp1[i]+y_temp2[i])!=0):\n",
    "                    initial_entropy-=math.log2((y_temp1[i]+y_temp2[i])/total_y)\n",
    "              \n",
    "            # adding weighted entropies\n",
    "            total_entropy=(len_y1/total_y)*entropy1+(len_y2/total_y)*entropy2\n",
    "            \n",
    "            splitinfo=-1*(len_y1/total_y)*(math.log2(len_y1/total_y))-(len_y2/total_y)*(math.log2(len_y2/total_y))\n",
    "            \n",
    "            gain_ratio=(initial_entropy-total_entropy)/splitinfo\n",
    "            #print(gain_ratio)\n",
    "            #splitting on basis of gain ratio\n",
    "            if gain_ratio>max_gain_ratio:\n",
    "                best_feature=pos_fea\n",
    "                max_gain_ratio=gain_ratio\n",
    "                best_value=j\n",
    "                \n",
    "                \n",
    "    print(\"Level : \",u,\"\\nCurrent entropy : \",total_entropy,\"\\nSplitting on feature : \",best_feature,\" at value \",best_value ,\" with gain ratio : \",max_gain_ratio,'\\n')            \n",
    "   \n",
    "    head.feature=best_feature\n",
    "    head.fea_value=best_value\n",
    "    \n",
    "    head.left=Tree()\n",
    "    head.right=Tree()\n",
    "    \n",
    "    #recurively calling two subtrees passing only splitted dataframes\n",
    "    build_tree(df[df[best_feature]<best_value],y[df[best_feature]<best_value],u+1,head.left)\n",
    "    build_tree(df[df[best_feature]>=best_value],y[df[best_feature]>=best_value],u+1,head.right)"
   ]
  },
  {
   "cell_type": "code",
   "execution_count": 56,
   "metadata": {},
   "outputs": [
    {
     "name": "stdout",
     "output_type": "stream",
     "text": [
      "Level :  0 \n",
      "Current entropy :  0 \n",
      "Splitting on feature :  2  at value  3.3  with gain ratio :  4.038073276687424 \n",
      "\n",
      "Level :  1 \n",
      "current entropy is = 0.0\n",
      "Reached leaf node\n",
      "\n",
      "Level :  1 \n",
      "Current entropy :  1.7982540354074794 \n",
      "Splitting on feature :  2  at value  4.4  with gain ratio :  0.475257837561574 \n",
      "\n",
      "Level :  2 \n",
      "current entropy is = 0.0\n",
      "Reached leaf node\n",
      "\n",
      "Level :  2 \n",
      "Current entropy :  0 \n",
      "Splitting on feature :  2  at value  5.2  with gain ratio :  1.0236147940786802 \n",
      "\n",
      "Level :  3 \n",
      "Current entropy :  0 \n",
      "Splitting on feature :  3  at value  1.5  with gain ratio :  0.7314791657074307 \n",
      "\n",
      "Level :  4 \n",
      "current entropy is = 0.0\n",
      "Reached leaf node\n",
      "\n",
      "Level :  4 \n",
      "Current entropy :  1.92 \n",
      "Splitting on feature :  3  at value  1.9  with gain ratio :  0.5076743808216497 \n",
      "\n",
      "Level :  5 \n",
      "Current entropy :  0 \n",
      "Splitting on feature :  1  at value  3.1  with gain ratio :  0.6996977277595465 \n",
      "\n",
      "Level :  6 \n",
      "Current entropy :  0 \n",
      "Splitting on feature :  0  at value  6.5  with gain ratio :  0.4689639292016386 \n",
      "\n",
      "Level :  7 \n",
      "Current entropy :  0 \n",
      "Splitting on feature :  3  at value  1.8  with gain ratio :  0.5685693390106781 \n",
      "\n",
      "Level :  8 \n",
      "Current entropy :  2.1466999993589724 \n",
      "Splitting on feature :  1  at value  2.9  with gain ratio :  0.9110263131819216 \n",
      "\n",
      "Level :  9 \n",
      "Current entropy :  1.7157447408779736 \n",
      "Splitting on feature :  0  at value  6.0  with gain ratio :  0.4373006986454406 \n",
      "\n",
      "Level :  10 \n",
      "current entropy is = 0.0\n",
      "Reached leaf node\n",
      "\n",
      "Level :  10 \n",
      "Current entropy :  1.6 \n",
      "Splitting on feature :  2  at value  5.0  with gain ratio :  0.7795851740667743 \n",
      "\n",
      "Level :  11 \n",
      "current entropy is = 0.0\n",
      "Reached leaf node\n",
      "\n",
      "Level :  11 \n",
      "Current entropy :  0.0 \n",
      "Splitting on feature :  3  at value  1.6  with gain ratio :  2.3629912289393595 \n",
      "\n",
      "Level :  12 \n",
      "current entropy is = 0.0\n",
      "Reached leaf node\n",
      "\n",
      "Level :  12 \n",
      "current entropy is = 0.0\n",
      "Reached leaf node\n",
      "\n",
      "Level :  9 \n",
      "current entropy is = 0.0\n",
      "Reached leaf node\n",
      "\n",
      "Level :  8 \n",
      "current entropy is = 0.0\n",
      "Reached leaf node\n",
      "\n",
      "Level :  7 \n",
      "current entropy is = 0.0\n",
      "Reached leaf node\n",
      "\n",
      "Level :  6 \n",
      "current entropy is = 0.0\n",
      "Reached leaf node\n",
      "\n",
      "Level :  5 \n",
      "current entropy is = 0.0\n",
      "Reached leaf node\n",
      "\n",
      "Level :  3 \n",
      "current entropy is = 0.0\n",
      "Reached leaf node\n",
      "\n"
     ]
    }
   ],
   "source": [
    "head=Tree()\n",
    "\n",
    "build_tree(df,y_train,0,head)\n"
   ]
  },
  {
   "cell_type": "code",
   "execution_count": 57,
   "metadata": {},
   "outputs": [],
   "source": [
    "def predict(x,head):\n",
    "    if(head.data>=0):\n",
    "        return head.data\n",
    "    output= 0\n",
    "    if x[head.feature]<head.fea_value:\n",
    "        output = predict(x,head.left)\n",
    "    else:\n",
    "        output = predict(x,head.right)\n",
    "    return output"
   ]
  },
  {
   "cell_type": "code",
   "execution_count": 58,
   "metadata": {},
   "outputs": [],
   "source": [
    "# lets test the code by predicting answers for training dataitself\n",
    "\n",
    "ytrain=np.zeros(x_train.shape[0])\n",
    "for i in range(x_train.shape[0]):\n",
    "    ytrain[i]=predict(x_train[i],head)"
   ]
  },
  {
   "cell_type": "code",
   "execution_count": 59,
   "metadata": {},
   "outputs": [
    {
     "data": {
      "text/plain": [
       "array([ True,  True,  True,  True,  True,  True,  True,  True,  True,\n",
       "        True,  True,  True,  True,  True,  True,  True,  True,  True,\n",
       "        True,  True,  True,  True,  True,  True,  True,  True,  True,\n",
       "        True,  True,  True,  True,  True,  True,  True,  True,  True,\n",
       "        True,  True,  True,  True,  True,  True,  True,  True,  True,\n",
       "        True,  True,  True,  True,  True,  True,  True,  True,  True,\n",
       "        True,  True,  True,  True,  True,  True,  True,  True,  True,\n",
       "        True,  True,  True,  True,  True,  True,  True,  True,  True,\n",
       "        True,  True,  True,  True,  True,  True,  True,  True,  True,\n",
       "        True,  True,  True,  True,  True,  True,  True,  True,  True,\n",
       "        True,  True,  True,  True,  True,  True,  True,  True,  True,\n",
       "        True,  True,  True,  True,  True,  True,  True,  True,  True,\n",
       "        True,  True,  True,  True])"
      ]
     },
     "execution_count": 59,
     "metadata": {},
     "output_type": "execute_result"
    }
   ],
   "source": [
    "ytrain==y_train"
   ]
  },
  {
   "cell_type": "code",
   "execution_count": 60,
   "metadata": {},
   "outputs": [],
   "source": [
    "ytest=np.zeros(x_test.shape[0])\n",
    "for i in range(x_test.shape[0]):\n",
    "    ytest[i]=predict(x_test[i],head)"
   ]
  },
  {
   "cell_type": "code",
   "execution_count": 61,
   "metadata": {},
   "outputs": [
    {
     "data": {
      "text/plain": [
       "array([ True,  True,  True,  True,  True,  True,  True,  True,  True,\n",
       "        True,  True,  True,  True,  True,  True,  True,  True,  True,\n",
       "        True,  True,  True,  True,  True,  True, False,  True,  True,\n",
       "        True,  True,  True,  True,  True,  True,  True,  True,  True,\n",
       "        True,  True])"
      ]
     },
     "execution_count": 61,
     "metadata": {},
     "output_type": "execute_result"
    }
   ],
   "source": [
    "ytest==y_test"
   ]
  },
  {
   "cell_type": "code",
   "execution_count": null,
   "metadata": {},
   "outputs": [],
   "source": []
  },
  {
   "cell_type": "code",
   "execution_count": null,
   "metadata": {},
   "outputs": [],
   "source": []
  },
  {
   "cell_type": "code",
   "execution_count": null,
   "metadata": {},
   "outputs": [],
   "source": []
  }
 ],
 "metadata": {
  "kernelspec": {
   "display_name": "Python 3",
   "language": "python",
   "name": "python3"
  },
  "language_info": {
   "codemirror_mode": {
    "name": "ipython",
    "version": 3
   },
   "file_extension": ".py",
   "mimetype": "text/x-python",
   "name": "python",
   "nbconvert_exporter": "python",
   "pygments_lexer": "ipython3",
   "version": "3.6.4"
  }
 },
 "nbformat": 4,
 "nbformat_minor": 2
}
